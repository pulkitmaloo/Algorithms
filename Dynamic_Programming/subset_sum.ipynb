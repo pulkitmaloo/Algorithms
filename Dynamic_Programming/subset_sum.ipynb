{
 "cells": [
  {
   "cell_type": "code",
   "execution_count": 7,
   "metadata": {
    "collapsed": true
   },
   "outputs": [],
   "source": [
    "a = [3, 34, 4, 12, 5, 2]\n",
    "k = 9\n",
    "n = len(a)"
   ]
  },
  {
   "cell_type": "code",
   "execution_count": 4,
   "metadata": {
    "collapsed": true
   },
   "outputs": [],
   "source": [
    "# Naive approach - O(2^n)\n",
    "def subsetsum(a, n, k):\n",
    "    if k==0:\n",
    "        return True\n",
    "    elif n==0 and k>0:\n",
    "        return False\n",
    "    elif a[n-1] > k:\n",
    "        return  subsetsum(a, n-1, k)\n",
    "    else:\n",
    "        return subsetsum(a, n-1, k) or subsetsum(a, n-1, k-a[n-1])"
   ]
  },
  {
   "cell_type": "code",
   "execution_count": 8,
   "metadata": {},
   "outputs": [],
   "source": [
    "# Using DP - O(nk)\n",
    "def subsetsum (S, n, k):\n",
    "    val = [[None]*(k+1) for i in range(n+1)]\n",
    "    for i in range(0, n+1):\n",
    "        val[i][0] = True\n",
    "    for j in range(1, k+1):\n",
    "        val[0][j] = False\n",
    "    for i in range(1, n+1):\n",
    "        for j in range(1, k+1):\n",
    "            if S[i-1] > j:\n",
    "                val[i][j] = val[i-1][j]\n",
    "            else:\n",
    "                val[i][j] = val[i-1][j] or val[i-1][j-S[i-1]]\n",
    "    return val[n][k]"
   ]
  },
  {
   "cell_type": "code",
   "execution_count": 9,
   "metadata": {
    "scrolled": true
   },
   "outputs": [
    {
     "data": {
      "text/plain": [
       "True"
      ]
     },
     "execution_count": 9,
     "metadata": {},
     "output_type": "execute_result"
    }
   ],
   "source": [
    "subsetsum(a,n,k)"
   ]
  }
 ],
 "metadata": {
  "kernelspec": {
   "display_name": "Python 2",
   "language": "python",
   "name": "python2"
  },
  "language_info": {
   "codemirror_mode": {
    "name": "ipython",
    "version": 2
   },
   "file_extension": ".py",
   "mimetype": "text/x-python",
   "name": "python",
   "nbconvert_exporter": "python",
   "pygments_lexer": "ipython2",
   "version": "2.7.13"
  }
 },
 "nbformat": 4,
 "nbformat_minor": 2
}
