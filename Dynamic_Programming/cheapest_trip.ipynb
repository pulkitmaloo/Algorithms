{
 "cells": [
  {
   "cell_type": "code",
   "execution_count": 3,
   "metadata": {
    "collapsed": true
   },
   "outputs": [],
   "source": [
    "\"\"\"I want to travel a 2500km long cross-country highway that has 500 hotels, 5km apart, numbered 0 (at the beginning of the \n",
    "highway) through 500 (at the end). I want to start o↵ by staying at hotel 0 and ﬁnish o↵ at hotel 500. \n",
    "Each hotel i charges c(i) dollars per night for a room. I can choose to drive for 100, 175, or 250 km each day before \n",
    "I have to go to a hotel and get a room for the night. My car spends c1 dollars worth of gas if I drive 100km, c2 for 175, and \n",
    "c3 for 250. Due to engine heating issues, gas consumption is not linearly dependent on distance. Give a recursive formulation \n",
    "for ﬁnding the cheapest way of completing the trip. How would you memoize this? Give pseudocode, and analyze running time.\"\"\"\n",
    "\n",
    "n = 2500\n",
    "c = [1]*501\n",
    "c1 = 100\n",
    "c2 = 50\n",
    "c3 = 2"
   ]
  },
  {
   "cell_type": "code",
   "execution_count": 4,
   "metadata": {},
   "outputs": [],
   "source": [
    "val = [0]+[10**10]*(n/25)\n",
    "def cheapest_trip(n, val):\n",
    "    if n < 0:\n",
    "        return 10**10\n",
    "    elif n == 0:\n",
    "        return 0\n",
    "    elif val[n/25] < 10**10:\n",
    "        return val[n/25]\n",
    "    else:        \n",
    "        val[n/25] = min( cheapest_trip(n-100, val) + c1 + c[(n-100)/5], cheapest_trip(n-175, val) + c2 + c[(n-175)/5], cheapest_trip(n-250, val) + c3 + c[(n-250)/5] ) \n",
    "    return val[n/25]    "
   ]
  },
  {
   "cell_type": "code",
   "execution_count": 5,
   "metadata": {},
   "outputs": [
    {
     "name": "stdout",
     "output_type": "stream",
     "text": [
      "30\n"
     ]
    }
   ],
   "source": [
    "print cheapest_trip(2500, val)"
   ]
  }
 ],
 "metadata": {
  "kernelspec": {
   "display_name": "Python 2",
   "language": "python",
   "name": "python2"
  },
  "language_info": {
   "codemirror_mode": {
    "name": "ipython",
    "version": 2
   },
   "file_extension": ".py",
   "mimetype": "text/x-python",
   "name": "python",
   "nbconvert_exporter": "python",
   "pygments_lexer": "ipython2",
   "version": "2.7.13"
  }
 },
 "nbformat": 4,
 "nbformat_minor": 2
}
